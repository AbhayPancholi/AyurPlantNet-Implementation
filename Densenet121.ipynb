{
  "nbformat": 4,
  "nbformat_minor": 0,
  "metadata": {
    "colab": {
      "provenance": [],
      "gpuType": "T4"
    },
    "kernelspec": {
      "name": "python3",
      "display_name": "Python 3"
    },
    "language_info": {
      "name": "python"
    },
    "accelerator": "GPU"
  },
  "cells": [
    {
      "cell_type": "code",
      "source": [
        "from google.colab import drive\n",
        "drive.mount('/content/drive')"
      ],
      "metadata": {
        "colab": {
          "base_uri": "https://localhost:8080/"
        },
        "id": "ltu4Pv5qF7G3",
        "outputId": "39a098d3-f00c-402b-b4a6-ceaac433234d"
      },
      "execution_count": null,
      "outputs": [
        {
          "output_type": "stream",
          "name": "stdout",
          "text": [
            "Mounted at /content/drive\n"
          ]
        }
      ]
    },
    {
      "cell_type": "code",
      "execution_count": null,
      "metadata": {
        "id": "Yw4_UZniAq1L"
      },
      "outputs": [],
      "source": [
        "import tensorflow\n",
        "import keras\n",
        "from keras.preprocessing.image import ImageDataGenerator\n",
        "from keras.applications.xception import Xception\n",
        "from keras.applications.resnet50 import ResNet50\n",
        "from keras.applications.densenet import DenseNet121\n",
        "from keras.layers import Input, Flatten, Dense, Dropout\n",
        "from keras.regularizers import l2\n",
        "import matplotlib.pyplot as plt"
      ]
    },
    {
      "cell_type": "code",
      "source": [
        "from keras import backend as K\n",
        "K.clear_session()"
      ],
      "metadata": {
        "id": "4LuYt1J4xGFE"
      },
      "execution_count": null,
      "outputs": []
    },
    {
      "cell_type": "code",
      "source": [
        "!unzip /content/drive/MyDrive/weather_prediction/Medicinalplantdataset.zip"
      ],
      "metadata": {
        "id": "gK2MnJuqApQc"
      },
      "execution_count": null,
      "outputs": []
    },
    {
      "cell_type": "code",
      "source": [
        "dataset = '/content/Medicinal plant dataset'"
      ],
      "metadata": {
        "id": "g-ec4X7iCI6R"
      },
      "execution_count": null,
      "outputs": []
    },
    {
      "cell_type": "code",
      "source": [
        "data_gen = ImageDataGenerator(rescale=1./255, rotation_range=180, brightness_range=[0.2, 1.0], horizontal_flip=True,validation_split=0.2)"
      ],
      "metadata": {
        "id": "FcrfpQqRCI23"
      },
      "execution_count": null,
      "outputs": []
    },
    {
      "cell_type": "code",
      "source": [
        "train_imgs = data_gen.flow_from_directory(dataset, target_size=(224,224),class_mode='categorical', subset='training', shuffle=True)\n",
        "test_imgs = data_gen.flow_from_directory(dataset, target_size=(224,224),class_mode='categorical', subset='validation', shuffle=True)"
      ],
      "metadata": {
        "colab": {
          "base_uri": "https://localhost:8080/"
        },
        "id": "JXkviaYYCIzY",
        "outputId": "16c541c9-163a-45c1-f5cd-aca2c5ca4da9"
      },
      "execution_count": null,
      "outputs": [
        {
          "output_type": "stream",
          "name": "stdout",
          "text": [
            "Found 4765 images belonging to 40 classes.\n",
            "Found 1180 images belonging to 40 classes.\n"
          ]
        }
      ]
    },
    {
      "cell_type": "code",
      "source": [
        "input = Input(shape=(224, 224, 3))\n",
        "model = DenseNet121(include_top=False, weights='imagenet', input_tensor=input)\n",
        "model.trainable=True\n",
        "# for layers in model.layers[-1:-5:-1]:\n",
        "#   layers.trainable=True"
      ],
      "metadata": {
        "id": "22s7g4gwCIwk",
        "colab": {
          "base_uri": "https://localhost:8080/"
        },
        "outputId": "f6f4172b-0ddf-48e4-da79-7bc4025c3ff8"
      },
      "execution_count": null,
      "outputs": [
        {
          "output_type": "stream",
          "name": "stdout",
          "text": [
            "Downloading data from https://storage.googleapis.com/tensorflow/keras-applications/densenet/densenet121_weights_tf_dim_ordering_tf_kernels_notop.h5\n",
            "29084464/29084464 [==============================] - 0s 0us/step\n"
          ]
        }
      ]
    },
    {
      "cell_type": "code",
      "source": [
        "# output = model.output\n",
        "# x = Flatten()(output)\n",
        "# x = Dense(1024, activation='relu', kernel_regularizer=l2(0.001))(x)\n",
        "# x = Dropout(0.2)(x)\n",
        "# x = Dense(512, activation='relu', kernel_regularizer=l2(0.001))(x)\n",
        "# x = Dropout(0.2)(x)\n",
        "# x = Dense(40, activation='softmax')(x)\n",
        "\n",
        "output = model.output\n",
        "x = Flatten()(output)\n",
        "x = Dense(1024, activation='relu')(x)\n",
        "x = Dropout(0.2)(x)\n",
        "x = Dense(40, activation='softmax')(x)"
      ],
      "metadata": {
        "id": "CEkiAToaCIty"
      },
      "execution_count": null,
      "outputs": []
    },
    {
      "cell_type": "code",
      "source": [
        "model = keras.Model(inputs=input, outputs=x)"
      ],
      "metadata": {
        "id": "he7VU6f-GpeL"
      },
      "execution_count": null,
      "outputs": []
    },
    {
      "cell_type": "code",
      "source": [
        "from keras.callbacks import ModelCheckpoint\n",
        "checkpoint = ModelCheckpoint('best_model_.h5', monitor='val_accuracy', save_best_only=True, mode='max', verbose=1)\n",
        "callbacks = [checkpoint]\n",
        "\n",
        "\n",
        "optimizer = keras.optimizers.SGD(learning_rate=0.01, momentum=0.09)\n",
        "\n",
        "model.compile(loss=tensorflow.keras.losses.CategoricalCrossentropy(), optimizer=optimizer, metrics=['accuracy'])\n",
        "\n",
        "history = model.fit(train_imgs, epochs=10,\n",
        "                    validation_data=test_imgs,\n",
        "                    callbacks=callbacks\n",
        "                    )"
      ],
      "metadata": {
        "colab": {
          "base_uri": "https://localhost:8080/"
        },
        "id": "iUBqgTMMG13I",
        "outputId": "a0bda6d6-5018-4122-93bb-149e81d9396f"
      },
      "execution_count": null,
      "outputs": [
        {
          "output_type": "stream",
          "name": "stdout",
          "text": [
            "Epoch 1/10\n",
            "149/149 [==============================] - ETA: 0s - loss: 2.6443 - accuracy: 0.3977\n",
            "Epoch 1: val_accuracy improved from -inf to 0.48305, saving model to best_model_.h5\n"
          ]
        },
        {
          "output_type": "stream",
          "name": "stderr",
          "text": [
            "/usr/local/lib/python3.10/dist-packages/keras/src/engine/training.py:3103: UserWarning: You are saving your model as an HDF5 file via `model.save()`. This file format is considered legacy. We recommend using instead the native Keras format, e.g. `model.save('my_model.keras')`.\n",
            "  saving_api.save_model(\n"
          ]
        },
        {
          "output_type": "stream",
          "name": "stdout",
          "text": [
            "\b\b\b\b\b\b\b\b\b\b\b\b\b\b\b\b\b\b\b\b\b\b\b\b\b\b\b\b\b\b\b\b\b\b\b\b\b\b\b\b\b\b\b\b\b\b\b\b\b\b\b\b\b\b\b\b\b\b\b\b\b\b\b\b\b\b\b\b\b\b\b\b\b\b\b\b\b\b\b\b\b\b\b\b\r149/149 [==============================] - 177s 889ms/step - loss: 2.6443 - accuracy: 0.3977 - val_loss: 1.9115 - val_accuracy: 0.4831\n",
            "Epoch 2/10\n",
            "149/149 [==============================] - ETA: 0s - loss: 0.5262 - accuracy: 0.8342\n",
            "Epoch 2: val_accuracy improved from 0.48305 to 0.84237, saving model to best_model_.h5\n",
            "149/149 [==============================] - 114s 765ms/step - loss: 0.5262 - accuracy: 0.8342 - val_loss: 0.5554 - val_accuracy: 0.8424\n",
            "Epoch 3/10\n",
            "149/149 [==============================] - ETA: 0s - loss: 0.2590 - accuracy: 0.9192\n",
            "Epoch 3: val_accuracy improved from 0.84237 to 0.89237, saving model to best_model_.h5\n",
            "149/149 [==============================] - 112s 751ms/step - loss: 0.2590 - accuracy: 0.9192 - val_loss: 0.3234 - val_accuracy: 0.8924\n",
            "Epoch 4/10\n",
            "149/149 [==============================] - ETA: 0s - loss: 0.1735 - accuracy: 0.9423\n",
            "Epoch 4: val_accuracy improved from 0.89237 to 0.90169, saving model to best_model_.h5\n",
            "149/149 [==============================] - 114s 768ms/step - loss: 0.1735 - accuracy: 0.9423 - val_loss: 0.2946 - val_accuracy: 0.9017\n",
            "Epoch 5/10\n",
            "149/149 [==============================] - ETA: 0s - loss: 0.1223 - accuracy: 0.9591\n",
            "Epoch 5: val_accuracy improved from 0.90169 to 0.93305, saving model to best_model_.h5\n",
            "149/149 [==============================] - 113s 759ms/step - loss: 0.1223 - accuracy: 0.9591 - val_loss: 0.2104 - val_accuracy: 0.9331\n",
            "Epoch 6/10\n",
            "149/149 [==============================] - ETA: 0s - loss: 0.0905 - accuracy: 0.9694\n",
            "Epoch 6: val_accuracy improved from 0.93305 to 0.93644, saving model to best_model_.h5\n",
            "149/149 [==============================] - 113s 757ms/step - loss: 0.0905 - accuracy: 0.9694 - val_loss: 0.2074 - val_accuracy: 0.9364\n",
            "Epoch 7/10\n",
            "149/149 [==============================] - ETA: 0s - loss: 0.0719 - accuracy: 0.9729\n",
            "Epoch 7: val_accuracy improved from 0.93644 to 0.95508, saving model to best_model_.h5\n",
            "149/149 [==============================] - 111s 742ms/step - loss: 0.0719 - accuracy: 0.9729 - val_loss: 0.1245 - val_accuracy: 0.9551\n",
            "Epoch 8/10\n",
            "149/149 [==============================] - ETA: 0s - loss: 0.0742 - accuracy: 0.9746\n",
            "Epoch 8: val_accuracy did not improve from 0.95508\n",
            "149/149 [==============================] - 108s 724ms/step - loss: 0.0742 - accuracy: 0.9746 - val_loss: 0.1409 - val_accuracy: 0.9441\n",
            "Epoch 9/10\n",
            "149/149 [==============================] - ETA: 0s - loss: 0.0522 - accuracy: 0.9824\n",
            "Epoch 9: val_accuracy improved from 0.95508 to 0.97627, saving model to best_model_.h5\n",
            "149/149 [==============================] - 114s 766ms/step - loss: 0.0522 - accuracy: 0.9824 - val_loss: 0.0818 - val_accuracy: 0.9763\n",
            "Epoch 10/10\n",
            "149/149 [==============================] - ETA: 0s - loss: 0.0517 - accuracy: 0.9817\n",
            "Epoch 10: val_accuracy did not improve from 0.97627\n",
            "149/149 [==============================] - 108s 724ms/step - loss: 0.0517 - accuracy: 0.9817 - val_loss: 0.0893 - val_accuracy: 0.9661\n"
          ]
        }
      ]
    },
    {
      "cell_type": "code",
      "source": [
        "densenet121 = keras.models.load_model('/content/best_model_.h5')\n",
        "densenet121.save('/content/drive/MyDrive/weather_prediction/densenet121_new.h5')"
      ],
      "metadata": {
        "id": "MrT76YFZIo9i"
      },
      "execution_count": null,
      "outputs": []
    },
    {
      "cell_type": "code",
      "source": [
        "10+10                                                                                                                                                                                                                                                                            `history"
      ],
      "metadata": {
        "colab": {
          "base_uri": "https://localhost:8080/"
        },
        "id": "RcgvHGLtEoyl",
        "outputId": "59c35573-6e0a-474c-81d7-6aec2ed4b348"
      },
      "execution_count": null,
      "outputs": [
        {
          "output_type": "execute_result",
          "data": {
            "text/plain": [
              "<keras.src.callbacks.History at 0x7f3640332b00>"
            ]
          },
          "metadata": {},
          "execution_count": 14
        }
      ]
    },
    {
      "cell_type": "code",
      "source": [
        "import matplotlib.pyplot as plt\n",
        "\n",
        "plt.figure(figsize=(12, 5))\n",
        "\n",
        "plt.subplot(1, 2, 1)\n",
        "plt.plot(history.history['accuracy'])\n",
        "plt.plot(history.history['val_accuracy'])\n",
        "plt.title('Model Accuracy')\n",
        "plt.xlabel('Epoch')\n",
        "plt.ylabel('Accuracy')\n",
        "plt.legend(['Train', 'Validation'], loc='upper left')\n",
        "\n",
        "plt.subplot(1, 2, 2)\n",
        "plt.plot(history.history['loss'])\n",
        "plt.plot(history.history['val_loss'])\n",
        "plt.title('Model Loss')\n",
        "plt.xlabel('Epoch')\n",
        "plt.ylabel('Loss')\n",
        "plt.legend(['Train', 'Validation'], loc='upper left')\n",
        "\n",
        "plt.show()\n"
      ],
      "metadata": {
        "colab": {
          "base_uri": "https://localhost:8080/",
          "height": 487
        },
        "id": "FPG-EyUfEAnp",
        "outputId": "516a37af-2bf4-422f-acda-fb98e217912e"
      },
      "execution_count": null,
      "outputs": [
        {
          "output_type": "display_data",
          "data": {
            "text/plain": [
              "<Figure size 1200x500 with 2 Axes>"
            ],
            "image/png": "[encoded data removed]"
          },
          "metadata": {}
        }
      ]
    },
    {
      "cell_type": "code",
      "source": [
        "model.save('/content/drive/MyDrive/Extras/Plants_model.h5')"
      ],
      "metadata": {
        "colab": {
          "base_uri": "https://localhost:8080/"
        },
        "id": "NJsTqNH81XHn",
        "outputId": "eda0506e-73af-49cb-e97d-f26a5b32f48e"
      },
      "execution_count": null,
      "outputs": [
        {
          "output_type": "stream",
          "name": "stderr",
          "text": [
            "/usr/local/lib/python3.10/dist-packages/keras/src/engine/training.py:3000: UserWarning: You are saving your model as an HDF5 file via `model.save()`. This file format is considered legacy. We recommend using instead the native Keras format, e.g. `model.save('my_model.keras')`.\n",
            "  saving_api.save_model(\n"
          ]
        }
      ]
    },
    {
      "cell_type": "code",
      "source": [],
      "metadata": {
        "id": "bxik4C-ZSjR7"
      },
      "execution_count": null,
      "outputs": []
    }
  ]
}