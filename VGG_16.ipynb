{
  "cells": [
    {
      "cell_type": "code",
      "execution_count": null,
      "metadata": {
        "id": "ltu4Pv5qF7G3",
        "colab": {
          "base_uri": "https://localhost:8080/"
        },
        "outputId": "73fe4da4-ff90-4702-b319-c53156963295"
      },
      "outputs": [
        {
          "output_type": "stream",
          "name": "stdout",
          "text": [
            "Mounted at /content/drive\n"
          ]
        }
      ],
      "source": [
        "from google.colab import drive\n",
        "drive.mount('/content/drive')"
      ]
    },
    {
      "cell_type": "code",
      "source": [
        "!unzip /content/drive/MyDrive/Extras/Medicinalplantdataset.zip"
      ],
      "metadata": {
        "id": "PHahT2g7n740"
      },
      "execution_count": null,
      "outputs": []
    },
    {
      "cell_type": "code",
      "execution_count": null,
      "metadata": {
        "id": "Yw4_UZniAq1L"
      },
      "outputs": [],
      "source": [
        "import tensorflow\n",
        "import keras\n",
        "from keras.preprocessing.image import ImageDataGenerator\n",
        "from keras.applications.xception import Xception\n",
        "from keras.applications.resnet50 import ResNet50\n",
        "from keras.layers import Input, Flatten, Dense, Dropout\n",
        "from keras.regularizers import l2\n",
        "import matplotlib.pyplot as plt\n",
        "from keras.applications.densenet import DenseNet121"
      ]
    },
    {
      "cell_type": "code",
      "execution_count": null,
      "metadata": {
        "id": "g-ec4X7iCI6R"
      },
      "outputs": [],
      "source": [
        "dataset = '/content/Medicinal plant dataset'"
      ]
    },
    {
      "cell_type": "code",
      "execution_count": null,
      "metadata": {
        "id": "FcrfpQqRCI23"
      },
      "outputs": [],
      "source": [
        "data_gen = ImageDataGenerator(rescale=1./255, rotation_range=180, brightness_range=[0.2, 1.0], horizontal_flip=True,validation_split=0.2)"
      ]
    },
    {
      "cell_type": "code",
      "execution_count": null,
      "metadata": {
        "id": "JXkviaYYCIzY",
        "colab": {
          "base_uri": "https://localhost:8080/"
        },
        "outputId": "f3ee5af1-d98e-4339-cfca-3e246ad77d48"
      },
      "outputs": [
        {
          "output_type": "stream",
          "name": "stdout",
          "text": [
            "Found 4765 images belonging to 40 classes.\n",
            "Found 1180 images belonging to 40 classes.\n"
          ]
        }
      ],
      "source": [
        "train_imgs = data_gen.flow_from_directory(dataset, target_size=(224,224),class_mode='categorical', subset='training', shuffle=True)\n",
        "test_imgs = data_gen.flow_from_directory(dataset, target_size=(224,224),class_mode='categorical', subset='validation', shuffle=True)"
      ]
    },
    {
      "cell_type": "code",
      "execution_count": null,
      "metadata": {
        "id": "22s7g4gwCIwk",
        "colab": {
          "base_uri": "https://localhost:8080/"
        },
        "outputId": "911fe8a3-927b-41f1-c5cc-7e0ae82ed040"
      },
      "outputs": [
        {
          "output_type": "stream",
          "name": "stdout",
          "text": [
            "Downloading data from https://storage.googleapis.com/tensorflow/keras-applications/vgg16/vgg16_weights_tf_dim_ordering_tf_kernels_notop.h5\n",
            "58889256/58889256 [==============================] - 4s 0us/step\n"
          ]
        }
      ],
      "source": [
        "input = Input(shape=(224, 224, 3))\n",
        "model = keras.applications.VGG16(include_top=False, weights='imagenet', input_tensor=input)\n",
        "model.trainable=True"
      ]
    },
    {
      "cell_type": "code",
      "execution_count": null,
      "metadata": {
        "id": "CEkiAToaCIty"
      },
      "outputs": [],
      "source": [
        "output = model.output\n",
        "x = Flatten()(output)\n",
        "x = Dense(1024, activation='relu')(x)\n",
        "x = Dropout(0.2)(x)\n",
        "x = Dense(40, activation='softmax')(x)"
      ]
    },
    {
      "cell_type": "code",
      "execution_count": null,
      "metadata": {
        "id": "he7VU6f-GpeL"
      },
      "outputs": [],
      "source": [
        "model = keras.Model(inputs=input, outputs=x)"
      ]
    },
    {
      "cell_type": "code",
      "execution_count": null,
      "metadata": {
        "id": "NphYq4mVqRdr"
      },
      "outputs": [],
      "source": [
        "from keras.callbacks import ModelCheckpoint\n",
        "checkpoint = ModelCheckpoint('best_model.h5', monitor='val_accuracy', save_best_only=True, mode='max', verbose=1)"
      ]
    },
    {
      "cell_type": "code",
      "execution_count": null,
      "metadata": {
        "colab": {
          "base_uri": "https://localhost:8080/"
        },
        "id": "iUBqgTMMG13I",
        "outputId": "facdb457-6262-49fd-caf0-0cc4391d2ee7"
      },
      "outputs": [
        {
          "output_type": "stream",
          "name": "stdout",
          "text": [
            "Epoch 1/30\n",
            "149/149 [==============================] - ETA: 0s - loss: 3.7037 - accuracy: 0.0262\n",
            "Epoch 1: val_accuracy improved from -inf to 0.02627, saving model to best_model.h5\n"
          ]
        },
        {
          "output_type": "stream",
          "name": "stderr",
          "text": [
            "/usr/local/lib/python3.10/dist-packages/keras/src/engine/training.py:3103: UserWarning: You are saving your model as an HDF5 file via `model.save()`. This file format is considered legacy. We recommend using instead the native Keras format, e.g. `model.save('my_model.keras')`.\n",
            "  saving_api.save_model(\n"
          ]
        },
        {
          "output_type": "stream",
          "name": "stdout",
          "text": [
            "\b\b\b\b\b\b\b\b\b\b\b\b\b\b\b\b\b\b\b\b\b\b\b\b\b\b\b\b\b\b\b\b\b\b\b\b\b\b\b\b\b\b\b\b\b\b\b\b\b\b\b\b\b\b\b\b\b\b\b\b\b\b\b\b\b\b\b\b\b\b\b\b\b\b\b\b\b\b\b\b\b\b\b\b\r149/149 [==============================] - 147s 960ms/step - loss: 3.7037 - accuracy: 0.0262 - val_loss: 3.6579 - val_accuracy: 0.0263\n",
            "Epoch 2/30\n",
            "149/149 [==============================] - ETA: 0s - loss: 3.6066 - accuracy: 0.0466\n",
            "Epoch 2: val_accuracy improved from 0.02627 to 0.07373, saving model to best_model.h5\n",
            "149/149 [==============================] - 118s 788ms/step - loss: 3.6066 - accuracy: 0.0466 - val_loss: 3.3688 - val_accuracy: 0.0737\n",
            "Epoch 3/30\n",
            "149/149 [==============================] - ETA: 0s - loss: 3.2611 - accuracy: 0.1152\n",
            "Epoch 3: val_accuracy improved from 0.07373 to 0.19661, saving model to best_model.h5\n",
            "149/149 [==============================] - 118s 792ms/step - loss: 3.2611 - accuracy: 0.1152 - val_loss: 2.7124 - val_accuracy: 0.1966\n",
            "Epoch 4/30\n",
            "149/149 [==============================] - ETA: 0s - loss: 2.7078 - accuracy: 0.2529\n",
            "Epoch 4: val_accuracy improved from 0.19661 to 0.23305, saving model to best_model.h5\n",
            "149/149 [==============================] - 118s 790ms/step - loss: 2.7078 - accuracy: 0.2529 - val_loss: 2.6936 - val_accuracy: 0.2331\n",
            "Epoch 5/30\n",
            "149/149 [==============================] - ETA: 0s - loss: 1.7474 - accuracy: 0.4860\n",
            "Epoch 5: val_accuracy improved from 0.23305 to 0.60847, saving model to best_model.h5\n",
            "149/149 [==============================] - 117s 785ms/step - loss: 1.7474 - accuracy: 0.4860 - val_loss: 1.2075 - val_accuracy: 0.6085\n",
            "Epoch 6/30\n",
            "149/149 [==============================] - ETA: 0s - loss: 1.1614 - accuracy: 0.6367\n",
            "Epoch 6: val_accuracy improved from 0.60847 to 0.66186, saving model to best_model.h5\n",
            "149/149 [==============================] - 119s 793ms/step - loss: 1.1614 - accuracy: 0.6367 - val_loss: 1.1103 - val_accuracy: 0.6619\n",
            "Epoch 7/30\n",
            "149/149 [==============================] - ETA: 0s - loss: 0.8857 - accuracy: 0.7286\n",
            "Epoch 7: val_accuracy improved from 0.66186 to 0.76864, saving model to best_model.h5\n",
            "149/149 [==============================] - 119s 800ms/step - loss: 0.8857 - accuracy: 0.7286 - val_loss: 0.7507 - val_accuracy: 0.7686\n",
            "Epoch 8/30\n",
            "149/149 [==============================] - ETA: 0s - loss: 0.7711 - accuracy: 0.7673\n",
            "Epoch 8: val_accuracy improved from 0.76864 to 0.82966, saving model to best_model.h5\n",
            "149/149 [==============================] - 117s 787ms/step - loss: 0.7711 - accuracy: 0.7673 - val_loss: 0.5406 - val_accuracy: 0.8297\n",
            "Epoch 9/30\n",
            "149/149 [==============================] - ETA: 0s - loss: 0.5205 - accuracy: 0.8355\n",
            "Epoch 9: val_accuracy improved from 0.82966 to 0.89746, saving model to best_model.h5\n",
            "149/149 [==============================] - 118s 792ms/step - loss: 0.5205 - accuracy: 0.8355 - val_loss: 0.3041 - val_accuracy: 0.8975\n",
            "Epoch 10/30\n",
            "149/149 [==============================] - ETA: 0s - loss: 0.3734 - accuracy: 0.8854\n",
            "Epoch 10: val_accuracy did not improve from 0.89746\n",
            "149/149 [==============================] - 117s 782ms/step - loss: 0.3734 - accuracy: 0.8854 - val_loss: 0.3415 - val_accuracy: 0.8941\n",
            "Epoch 11/30\n",
            "149/149 [==============================] - ETA: 0s - loss: 0.2865 - accuracy: 0.9051\n",
            "Epoch 11: val_accuracy did not improve from 0.89746\n",
            "149/149 [==============================] - 116s 778ms/step - loss: 0.2865 - accuracy: 0.9051 - val_loss: 0.4292 - val_accuracy: 0.8661\n",
            "Epoch 12/30\n",
            "149/149 [==============================] - ETA: 0s - loss: 0.2491 - accuracy: 0.9211\n",
            "Epoch 12: val_accuracy improved from 0.89746 to 0.91271, saving model to best_model.h5\n",
            "149/149 [==============================] - 124s 830ms/step - loss: 0.2491 - accuracy: 0.9211 - val_loss: 0.2417 - val_accuracy: 0.9127\n",
            "Epoch 13/30\n",
            "149/149 [==============================] - ETA: 0s - loss: 0.3168 - accuracy: 0.9026\n",
            "Epoch 13: val_accuracy did not improve from 0.91271\n",
            "149/149 [==============================] - 119s 797ms/step - loss: 0.3168 - accuracy: 0.9026 - val_loss: 0.8137 - val_accuracy: 0.7695\n",
            "Epoch 14/30\n",
            "149/149 [==============================] - ETA: 0s - loss: 0.2014 - accuracy: 0.9368\n",
            "Epoch 14: val_accuracy did not improve from 0.91271\n",
            "149/149 [==============================] - 118s 793ms/step - loss: 0.2014 - accuracy: 0.9368 - val_loss: 0.4742 - val_accuracy: 0.8644\n",
            "Epoch 15/30\n",
            "149/149 [==============================] - ETA: 0s - loss: 0.1460 - accuracy: 0.9515\n",
            "Epoch 15: val_accuracy did not improve from 0.91271\n",
            "149/149 [==============================] - 119s 800ms/step - loss: 0.1460 - accuracy: 0.9515 - val_loss: 0.2970 - val_accuracy: 0.9008\n",
            "Epoch 16/30\n",
            "149/149 [==============================] - ETA: 0s - loss: 0.1518 - accuracy: 0.9549\n",
            "Epoch 16: val_accuracy improved from 0.91271 to 0.92627, saving model to best_model.h5\n",
            "149/149 [==============================] - 119s 795ms/step - loss: 0.1518 - accuracy: 0.9549 - val_loss: 0.2152 - val_accuracy: 0.9263\n",
            "Epoch 17/30\n",
            "149/149 [==============================] - ETA: 0s - loss: 0.1242 - accuracy: 0.9601\n",
            "Epoch 17: val_accuracy did not improve from 0.92627\n",
            "149/149 [==============================] - 117s 783ms/step - loss: 0.1242 - accuracy: 0.9601 - val_loss: 0.3495 - val_accuracy: 0.8907\n",
            "Epoch 18/30\n",
            "149/149 [==============================] - ETA: 0s - loss: 0.1206 - accuracy: 0.9635\n",
            "Epoch 18: val_accuracy improved from 0.92627 to 0.93136, saving model to best_model.h5\n",
            "149/149 [==============================] - 119s 795ms/step - loss: 0.1206 - accuracy: 0.9635 - val_loss: 0.2086 - val_accuracy: 0.9314\n",
            "Epoch 19/30\n",
            "149/149 [==============================] - ETA: 0s - loss: 0.1003 - accuracy: 0.9689\n",
            "Epoch 19: val_accuracy did not improve from 0.93136\n",
            "149/149 [==============================] - 117s 784ms/step - loss: 0.1003 - accuracy: 0.9689 - val_loss: 0.2707 - val_accuracy: 0.9169\n",
            "Epoch 20/30\n",
            "149/149 [==============================] - ETA: 0s - loss: 0.1233 - accuracy: 0.9622\n",
            "Epoch 20: val_accuracy improved from 0.93136 to 0.95763, saving model to best_model.h5\n",
            "149/149 [==============================] - 118s 793ms/step - loss: 0.1233 - accuracy: 0.9622 - val_loss: 0.1207 - val_accuracy: 0.9576\n",
            "Epoch 21/30\n",
            "149/149 [==============================] - ETA: 0s - loss: 0.1133 - accuracy: 0.9637\n",
            "Epoch 21: val_accuracy did not improve from 0.95763\n",
            "149/149 [==============================] - 116s 781ms/step - loss: 0.1133 - accuracy: 0.9637 - val_loss: 0.1595 - val_accuracy: 0.9398\n",
            "Epoch 22/30\n",
            "149/149 [==============================] - ETA: 0s - loss: 0.0629 - accuracy: 0.9778\n",
            "Epoch 22: val_accuracy did not improve from 0.95763\n",
            "149/149 [==============================] - 115s 775ms/step - loss: 0.0629 - accuracy: 0.9778 - val_loss: 0.1901 - val_accuracy: 0.9398\n",
            "Epoch 23/30\n",
            "149/149 [==============================] - ETA: 0s - loss: 0.0655 - accuracy: 0.9809\n",
            "Epoch 23: val_accuracy improved from 0.95763 to 0.95847, saving model to best_model.h5\n",
            "149/149 [==============================] - 118s 792ms/step - loss: 0.0655 - accuracy: 0.9809 - val_loss: 0.1232 - val_accuracy: 0.9585\n",
            "Epoch 24/30\n",
            "149/149 [==============================] - ETA: 0s - loss: 0.0655 - accuracy: 0.9773\n",
            "Epoch 24: val_accuracy did not improve from 0.95847\n",
            "149/149 [==============================] - 116s 777ms/step - loss: 0.0655 - accuracy: 0.9773 - val_loss: 0.1442 - val_accuracy: 0.9492\n",
            "Epoch 25/30\n",
            "149/149 [==============================] - ETA: 0s - loss: 0.0370 - accuracy: 0.9851\n",
            "Epoch 25: val_accuracy improved from 0.95847 to 0.96186, saving model to best_model.h5\n",
            "149/149 [==============================] - 122s 819ms/step - loss: 0.0370 - accuracy: 0.9851 - val_loss: 0.1228 - val_accuracy: 0.9619\n",
            "Epoch 26/30\n",
            "149/149 [==============================] - ETA: 0s - loss: 0.0825 - accuracy: 0.9727\n",
            "Epoch 26: val_accuracy did not improve from 0.96186\n",
            "149/149 [==============================] - 118s 789ms/step - loss: 0.0825 - accuracy: 0.9727 - val_loss: 0.1177 - val_accuracy: 0.9568\n",
            "Epoch 27/30\n",
            "149/149 [==============================] - ETA: 0s - loss: 0.0502 - accuracy: 0.9813\n",
            "Epoch 27: val_accuracy did not improve from 0.96186\n",
            "149/149 [==============================] - 118s 791ms/step - loss: 0.0502 - accuracy: 0.9813 - val_loss: 0.1919 - val_accuracy: 0.9356\n",
            "Epoch 28/30\n",
            "149/149 [==============================] - ETA: 0s - loss: 0.0465 - accuracy: 0.9838\n",
            "Epoch 28: val_accuracy did not improve from 0.96186\n",
            "149/149 [==============================] - 114s 764ms/step - loss: 0.0465 - accuracy: 0.9838 - val_loss: 0.2315 - val_accuracy: 0.9237\n",
            "Epoch 29/30\n",
            "149/149 [==============================] - ETA: 0s - loss: 0.0459 - accuracy: 0.9847\n",
            "Epoch 29: val_accuracy did not improve from 0.96186\n",
            "149/149 [==============================] - 115s 774ms/step - loss: 0.0459 - accuracy: 0.9847 - val_loss: 0.1764 - val_accuracy: 0.9432\n",
            "Epoch 30/30\n",
            "149/149 [==============================] - ETA: 0s - loss: 0.0374 - accuracy: 0.9864\n",
            "Epoch 30: val_accuracy did not improve from 0.96186\n",
            "149/149 [==============================] - 116s 777ms/step - loss: 0.0374 - accuracy: 0.9864 - val_loss: 0.1466 - val_accuracy: 0.9534\n"
          ]
        }
      ],
      "source": [
        "callbacks = [checkpoint]\n",
        "\n",
        "optimizer = keras.optimizers.SGD(learning_rate=0.01, momentum=0.09)\n",
        "\n",
        "model.compile(loss=tensorflow.keras.losses.CategoricalCrossentropy(), optimizer='SGD', metrics=['accuracy'])\n",
        "\n",
        "history = model.fit(train_imgs, epochs=30,\n",
        "                    validation_data=test_imgs,\n",
        "                    callbacks=callbacks\n",
        "                    )"
      ]
    },
    {
      "cell_type": "code",
      "execution_count": null,
      "metadata": {
        "colab": {
          "base_uri": "https://localhost:8080/"
        },
        "id": "NMGJ5UDu6IWE",
        "outputId": "8ecbadf6-897b-4571-e9f8-b1a180894856"
      },
      "outputs": [
        {
          "data": {
            "text/plain": [
              "{'Aloevera': 0,\n",
              " 'Amla': 1,\n",
              " 'Amruta_Balli': 2,\n",
              " 'Arali': 3,\n",
              " 'Ashoka': 4,\n",
              " 'Ashwagandha': 5,\n",
              " 'Avacado': 6,\n",
              " 'Bamboo': 7,\n",
              " 'Basale': 8,\n",
              " 'Betel': 9,\n",
              " 'Betel_Nut': 10,\n",
              " 'Brahmi': 11,\n",
              " 'Castor': 12,\n",
              " 'Curry_Leaf': 13,\n",
              " 'Doddapatre': 14,\n",
              " 'Ekka': 15,\n",
              " 'Ganike': 16,\n",
              " 'Gauva': 17,\n",
              " 'Geranium': 18,\n",
              " 'Henna': 19,\n",
              " 'Hibiscus': 20,\n",
              " 'Honge': 21,\n",
              " 'Insulin': 22,\n",
              " 'Jasmine': 23,\n",
              " 'Lemon': 24,\n",
              " 'Lemon_grass': 25,\n",
              " 'Mango': 26,\n",
              " 'Mint': 27,\n",
              " 'Nagadali': 28,\n",
              " 'Neem': 29,\n",
              " 'Nithyapushpa': 30,\n",
              " 'Nooni': 31,\n",
              " 'Pappaya': 32,\n",
              " 'Pepper': 33,\n",
              " 'Pomegranate': 34,\n",
              " 'Raktachandini': 35,\n",
              " 'Rose': 36,\n",
              " 'Sapota': 37,\n",
              " 'Tulasi': 38,\n",
              " 'Wood_sorel': 39}"
            ]
          },
          "execution_count": 23,
          "metadata": {},
          "output_type": "execute_result"
        }
      ],
      "source": [
        "train_imgs.class_indices"
      ]
    },
    {
      "cell_type": "code",
      "execution_count": null,
      "metadata": {
        "colab": {
          "base_uri": "https://localhost:8080/"
        },
        "id": "eqzSd0FicoK1",
        "outputId": "3d438f2b-2b95-4f28-e480-5cf2a6258b0b"
      },
      "outputs": [
        {
          "data": {
            "text/plain": [
              "<keras.src.engine.functional.Functional at 0x7c5f7a987640>"
            ]
          },
          "execution_count": 25,
          "metadata": {},
          "output_type": "execute_result"
        }
      ],
      "source": []
    },
    {
      "cell_type": "code",
      "execution_count": null,
      "metadata": {
        "colab": {
          "base_uri": "https://localhost:8080/",
          "height": 487
        },
        "id": "FPG-EyUfEAnp",
        "outputId": "16a25156-2c77-432a-a4e9-3d6879053a33"
      },
      "outputs": [
        {
          "output_type": "display_data",
          "data": {
            "text/plain": [
              "<Figure size 1200x500 with 2 Axes>"
            ],
            "image/png": "[encoded data removed]"
          },
          "metadata": {}
        }
      ],
      "source": [
        "import matplotlib.pyplot as plt\n",
        "\n",
        "plt.figure(figsize=(12, 5))\n",
        "\n",
        "plt.subplot(1, 2, 1)\n",
        "plt.plot(history.history['accuracy'])\n",
        "plt.plot(history.history['val_accuracy'])\n",
        "plt.title('Model Accuracy')\n",
        "plt.xlabel('Epoch')\n",
        "plt.ylabel('Accuracy')\n",
        "plt.legend(['Train', 'Validation'], loc='upper left')\n",
        "\n",
        "plt.subplot(1, 2, 2)\n",
        "plt.plot(history.history['loss'])\n",
        "plt.plot(history.history['val_loss'])\n",
        "plt.title('Model Loss')\n",
        "plt.xlabel('Epoch')\n",
        "plt.ylabel('Loss')\n",
        "plt.legend(['Train', 'Validation'], loc='upper left')\n",
        "\n",
        "plt.show()\n"
      ]
    },
    {
      "cell_type": "code",
      "execution_count": null,
      "metadata": {
        "id": "NJsTqNH81XHn"
      },
      "outputs": [],
      "source": [
        "plants_model = keras.models.load_model('/content/best_model.h5')\n",
        "plants_model.save('/content/drive/MyDrive/Extras/VGG16.h5')"
      ]
    },
    {
      "cell_type": "code",
      "source": [
        "import keras.backend as k\n",
        "k.clear_session()"
      ],
      "metadata": {
        "id": "UegIJ3bDFMPt"
      },
      "execution_count": null,
      "outputs": []
    }
  ],
  "metadata": {
    "accelerator": "GPU",
    "colab": {
      "provenance": []
    },
    "kernelspec": {
      "display_name": "Python 3",
      "name": "python3"
    },
    "language_info": {
      "name": "python"
    }
  },
  "nbformat": 4,
  "nbformat_minor": 0
}